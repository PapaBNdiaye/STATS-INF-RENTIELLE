{
  "nbformat": 4,
  "nbformat_minor": 0,
  "metadata": {
    "colab": {
      "provenance": [],
      "authorship_tag": "ABX9TyO9+Bp2kgzTxMM7fpiQdy/t",
      "include_colab_link": true
    },
    "kernelspec": {
      "name": "python3",
      "display_name": "Python 3"
    },
    "language_info": {
      "name": "python"
    }
  },
  "cells": [
    {
      "cell_type": "markdown",
      "metadata": {
        "id": "view-in-github",
        "colab_type": "text"
      },
      "source": [
        "<a href=\"https://colab.research.google.com/github/PapaBNdiaye/STATSINFERENTIELLE/blob/Precaution/IntervallesDeConfiances.ipynb\" target=\"_parent\"><img src=\"https://colab.research.google.com/assets/colab-badge.svg\" alt=\"Open In Colab\"/></a>"
      ]
    },
    {
      "cell_type": "markdown",
      "source": [
        "#     Classe pour calculer divers intervalles de confiance en Python."
      ],
      "metadata": {
        "id": "KyKdH5ZGLWlC"
      }
    },
    {
      "cell_type": "code",
      "source": [
        "#########################################\n",
        "# Chargement des packages necessaires ###\n",
        "#########################################\n",
        "import numpy as np ######################\n",
        "from scipy import stats #################\n",
        "#########################################\n",
        "\n",
        "#############################################\n",
        "# Classe pour calculer divers intervalles ###\n",
        "#############################################\n",
        "\n",
        "class IntervallesConfiance:\n",
        "    \"\"\"\n",
        "    Classe pour calculer divers intervalles de confiance en Python.\n",
        "    \"\"\"\n",
        "\n",
        "    @staticmethod\n",
        "    def ic_moyenne(donnees, niveau_confiance=0.95):\n",
        "        \"\"\"\n",
        "        Calcule l'intervalle de confiance pour la moyenne.\n",
        "\n",
        "        Parametres:\n",
        "        donnees (array-like): Les données de l'échantillon.\n",
        "        niveau_confiance (float): Le niveau de confiance (par défaut 0.95).\n",
        "\n",
        "        Retourne:\n",
        "        tuple: Borne inférieure et supérieure de l'IC.\n",
        "        \"\"\"\n",
        "        if len(donnees) < 2:\n",
        "            raise ValueError(\"L'échantillon doit contenir au moins deux données.\")\n",
        "        moyenne = np.mean(donnees)\n",
        "        erreur_type = stats.sem(donnees)\n",
        "        marge_erreur = erreur_type * stats.t.ppf((1 + niveau_confiance) / 2, len(donnees) - 1)\n",
        "        return moyenne - marge_erreur, moyenne + marge_erreur\n",
        "\n",
        "    @staticmethod\n",
        "    def ic_proportion(succes, n, niveau_confiance=0.95):\n",
        "        \"\"\"\n",
        "        Calcule l'intervalle de confiance pour une proportion.\n",
        "\n",
        "        Parametres:\n",
        "        succes (int): Nombre de succès dans l'échantillon.\n",
        "        n (int): Taille de l'échantillon.\n",
        "        niveau_confiance (float): Le niveau de confiance (par défaut 0.95).\n",
        "\n",
        "        Retourne:\n",
        "        tuple: Borne inférieure et supérieure de l'IC.\n",
        "        \"\"\"\n",
        "        if n <= 0 or succes > n:\n",
        "            raise ValueError(\"La taille de l'échantillon doit être positive et le nombre de succès ne peut pas dépasser la taille de l'échantillon.\")\n",
        "        p = succes / n\n",
        "        erreur_type = np.sqrt(p * (1 - p) / n)\n",
        "        marge_erreur = erreur_type * stats.norm.ppf((1 + niveau_confiance) / 2)\n",
        "        return p - marge_erreur, p + marge_erreur\n",
        "\n",
        "    @staticmethod\n",
        "    def ic_variance(donnees, niveau_confiance=0.95):\n",
        "        \"\"\"\n",
        "        Calcule l'intervalle de confiance pour la variance.\n",
        "\n",
        "        Parametres:\n",
        "        donnees (array-like): Les données de l'échantillon.\n",
        "        niveau_confiance (float): Le niveau de confiance (par défaut 0.95).\n",
        "\n",
        "        Retourne:\n",
        "        tuple: Borne inférieure et supérieure de l'IC.\n",
        "        \"\"\"\n",
        "        if len(donnees) < 2:\n",
        "            raise ValueError(\"L'échantillon doit contenir au moins deux données.\")\n",
        "        n = len(donnees)\n",
        "        variance = np.var(donnees, ddof=1)\n",
        "        chi2_inf = stats.chi2.ppf((1 - niveau_confiance) / 2, n - 1)\n",
        "        chi2_sup = stats.chi2.ppf((1 + niveau_confiance) / 2, n - 1)\n",
        "        return ((n - 1) * variance / chi2_sup, (n - 1) * variance / chi2_inf)\n",
        "\n",
        "    @staticmethod\n",
        "    def ic_ecart_type(donnees, niveau_confiance=0.95):\n",
        "        \"\"\"\n",
        "        Calcule l'intervalle de confiance pour l'écart-type.\n",
        "\n",
        "        Parametres:\n",
        "        donnees (array-like): Les données de l'échantillon.\n",
        "        niveau_confiance (float): Le niveau de confiance (par défaut 0.95).\n",
        "\n",
        "        Retourne:\n",
        "        tuple: Borne inférieure et supérieure de l'IC.\n",
        "        \"\"\"\n",
        "        ic_var = IntervallesConfiance.ic_variance(donnees, niveau_confiance)\n",
        "        return np.sqrt(ic_var[0]), np.sqrt(ic_var[1])\n",
        "\n",
        "# Exemple d'utilisation\n",
        "if __name__ == \"__main__\": # Afin d'éviter l'exécution de l'exemple lors de l'importation du module(utile quand tu importe ce fichier dans un autre projet)\n",
        "    donnees = [10, 12, 15, 18, 20, 22, 25, 28, 30]\n",
        "    print(\"IC Moyenne:\", IntervallesConfiance.ic_moyenne(donnees))\n",
        "    print(\"IC Proportion:\", IntervallesConfiance.ic_proportion(60, 100))\n",
        "    print(\"IC Variance:\", IntervallesConfiance.ic_variance(donnees))\n",
        "    print(\"IC Écart-Type:\", IntervallesConfiance.ic_ecart_type(donnees))\n"
      ],
      "metadata": {
        "colab": {
          "base_uri": "https://localhost:8080/"
        },
        "id": "LQDSOmXCJo6-",
        "outputId": "da5636e5-d748-4596-f843-069de8865440"
      },
      "execution_count": 3,
      "outputs": [
        {
          "output_type": "stream",
          "name": "stdout",
          "text": [
            "IC Moyenne: (14.66066111870608, 25.33933888129392)\n",
            "IC Proportion: (0.5039817664728938, 0.6960182335271061)\n",
            "IC Variance: (22.013686406789702, 177.08609216368464)\n",
            "IC Écart-Type: (4.691874508849283, 13.307369843950555)\n"
          ]
        }
      ]
    }
  ]
}